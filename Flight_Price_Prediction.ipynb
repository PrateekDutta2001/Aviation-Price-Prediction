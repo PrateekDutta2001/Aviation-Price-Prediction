{
  "cells": [
    {
      "cell_type": "markdown",
      "source": [
        "#Aviation Price Prediction - By Prateek Dutta\n",
        "\n",
        "The objective of the study is to analyse the flight booking dataset obtained from “Ease My Trip” website and to conduct various statistical hypothesis tests in order to get meaningful information from it. The 'Linear Regression' statistical algorithm would be used to train the dataset and predict a continuous target variable. 'Easemytrip' is an internet platform for booking flight tickets, and hence a platform that potential passengers use to buy tickets. A thorough study of the data will aid in the discovery of valuable insights that will be of enormous value to passengers.\n",
        "\n",
        "**DATA COLLECTION AND METHODOLOGY**\n",
        "\n",
        "Octoparse scraping tool was used to extract data from the website. Data was collected in two parts: one for economy class tickets and another for business class tickets. A total of 300261 distinct flight booking options was extracted from the site. Data was collected for 50 days, from February 11th to March 31st, 2022.\n",
        "Data source was secondary data and was collected from Ease my trip website.\n",
        "\n",
        "**DATASET**\n",
        "\n",
        "Dataset contains information about flight booking options from the website Easemytrip for flight travel between India's top 6 metro cities. There are 300261 datapoints and 11 features in the cleaned dataset.\n",
        "\n",
        "**FEATURES**\n",
        "\n",
        "The various features of the cleaned dataset are explained below:\n",
        "1) Airline: The name of the airline company is stored in the airline column. It is a categorical feature having 6 different airlines.\n",
        "\n",
        "2) Flight: Flight stores information regarding the plane's flight code. It is a categorical feature.\n",
        "\n",
        "3) Source City: City from which the flight takes off. It is a categorical feature having 6 unique cities.\n",
        "\n",
        "4) Departure Time: This is a derived categorical feature obtained created by grouping time periods into bins. It stores information about the departure time and have 6 unique time labels.\n",
        "\n",
        "5) Stops: A categorical feature with 3 distinct values that stores the number of stops between the source and destination cities.\n",
        "\n",
        "6) Arrival Time: This is a derived categorical feature created by grouping time intervals into bins. It has six distinct time labels and keeps information about the arrival time.\n",
        "\n",
        "7) Destination City: City where the flight will land. It is a categorical feature having 6 unique cities.\n",
        "\n",
        "8) Class: A categorical feature that contains information on seat class; it has two distinct values: Business and Economy.\n",
        "\n",
        "9) Duration: A continuous feature that displays the overall amount of time it takes to travel between cities in hours.\n",
        "\n",
        "10)Days Left: This is a derived characteristic that is calculated by subtracting the trip date by the booking date.\n",
        "\n",
        "11) Price: Target variable stores information of the ticket price.\n",
        "\n",
        "**Tools & Techniques:-**\n",
        "\n",
        "Python[Language]\n",
        "\n",
        "Numpy, Pandas, Matplotlib, Seaborn, sklearn, lightgbm, tensorflow [Libraries]\n",
        "\n",
        "Data Cleaning"
      ],
      "metadata": {
        "id": "pXoPa6KVvorl"
      },
      "id": "pXoPa6KVvorl"
    },
    {
      "cell_type": "code",
      "source": [
        "from google.colab import drive\n",
        "drive.mount('/gdrive/')\n",
        "%cd /gdrive"
      ],
      "metadata": {
        "colab": {
          "base_uri": "https://localhost:8080/"
        },
        "id": "SfoYi6xGuhJp",
        "outputId": "4df5056e-6216-4eb7-8475-ae760b0cc1e9"
      },
      "id": "SfoYi6xGuhJp",
      "execution_count": 1,
      "outputs": [
        {
          "output_type": "stream",
          "name": "stdout",
          "text": [
            "Mounted at /gdrive/\n",
            "/gdrive\n"
          ]
        }
      ]
    },
    {
      "cell_type": "code",
      "source": [
        "ls"
      ],
      "metadata": {
        "colab": {
          "base_uri": "https://localhost:8080/"
        },
        "id": "m4-49F44ug59",
        "outputId": "d414b2c2-685a-479b-94c9-f0d1a612de14"
      },
      "id": "m4-49F44ug59",
      "execution_count": 2,
      "outputs": [
        {
          "output_type": "stream",
          "name": "stdout",
          "text": [
            "\u001b[0m\u001b[01;34mMyDrive\u001b[0m/  \u001b[01;34mShareddrives\u001b[0m/\n"
          ]
        }
      ]
    },
    {
      "cell_type": "code",
      "source": [
        "cd/gdrive/MyDrive/Flight Price Predict/"
      ],
      "metadata": {
        "colab": {
          "base_uri": "https://localhost:8080/"
        },
        "id": "6Fpnf4V7ugpQ",
        "outputId": "4b26e76c-98ca-4cd5-d54c-375180142e30"
      },
      "id": "6Fpnf4V7ugpQ",
      "execution_count": 3,
      "outputs": [
        {
          "output_type": "stream",
          "name": "stdout",
          "text": [
            "/gdrive/MyDrive/Flight Price Predict\n"
          ]
        }
      ]
    },
    {
      "cell_type": "code",
      "source": [
        "ls"
      ],
      "metadata": {
        "colab": {
          "base_uri": "https://localhost:8080/"
        },
        "id": "sJUKrMZ9ugZ6",
        "outputId": "63661926-998d-4662-c87f-0941ab364dfe"
      },
      "id": "sJUKrMZ9ugZ6",
      "execution_count": 9,
      "outputs": [
        {
          "output_type": "stream",
          "name": "stdout",
          "text": [
            "X_test.csv  X_train.csv  y_test.csv  y_train.csv\n"
          ]
        }
      ]
    },
    {
      "cell_type": "markdown",
      "id": "2990ef86",
      "metadata": {
        "papermill": {
          "duration": 0.008396,
          "end_time": "2022-06-23T03:34:45.794611",
          "exception": false,
          "start_time": "2022-06-23T03:34:45.786215",
          "status": "completed"
        },
        "tags": [],
        "id": "2990ef86"
      },
      "source": [
        "# Flight Price Predict and Visualize Importance"
      ]
    },
    {
      "cell_type": "code",
      "source": [
        "!pip install category_encoders"
      ],
      "metadata": {
        "colab": {
          "base_uri": "https://localhost:8080/"
        },
        "id": "9kOtdONyyeCL",
        "outputId": "1d086872-274b-413c-f459-496b2c8fe178"
      },
      "id": "9kOtdONyyeCL",
      "execution_count": 6,
      "outputs": [
        {
          "output_type": "stream",
          "name": "stdout",
          "text": [
            "Looking in indexes: https://pypi.org/simple, https://us-python.pkg.dev/colab-wheels/public/simple/\n",
            "Collecting category_encoders\n",
            "  Downloading category_encoders-2.5.0-py2.py3-none-any.whl (69 kB)\n",
            "\u001b[K     |████████████████████████████████| 69 kB 4.4 MB/s \n",
            "\u001b[?25hRequirement already satisfied: numpy>=1.14.0 in /usr/local/lib/python3.7/dist-packages (from category_encoders) (1.21.6)\n",
            "Requirement already satisfied: pandas>=1.0.5 in /usr/local/lib/python3.7/dist-packages (from category_encoders) (1.3.5)\n",
            "Requirement already satisfied: statsmodels>=0.9.0 in /usr/local/lib/python3.7/dist-packages (from category_encoders) (0.10.2)\n",
            "Requirement already satisfied: scikit-learn>=0.20.0 in /usr/local/lib/python3.7/dist-packages (from category_encoders) (1.0.2)\n",
            "Requirement already satisfied: scipy>=1.0.0 in /usr/local/lib/python3.7/dist-packages (from category_encoders) (1.4.1)\n",
            "Requirement already satisfied: patsy>=0.5.1 in /usr/local/lib/python3.7/dist-packages (from category_encoders) (0.5.2)\n",
            "Requirement already satisfied: pytz>=2017.3 in /usr/local/lib/python3.7/dist-packages (from pandas>=1.0.5->category_encoders) (2022.1)\n",
            "Requirement already satisfied: python-dateutil>=2.7.3 in /usr/local/lib/python3.7/dist-packages (from pandas>=1.0.5->category_encoders) (2.8.2)\n",
            "Requirement already satisfied: six in /usr/local/lib/python3.7/dist-packages (from patsy>=0.5.1->category_encoders) (1.15.0)\n",
            "Requirement already satisfied: joblib>=0.11 in /usr/local/lib/python3.7/dist-packages (from scikit-learn>=0.20.0->category_encoders) (1.1.0)\n",
            "Requirement already satisfied: threadpoolctl>=2.0.0 in /usr/local/lib/python3.7/dist-packages (from scikit-learn>=0.20.0->category_encoders) (3.1.0)\n",
            "Installing collected packages: category-encoders\n",
            "Successfully installed category-encoders-2.5.0\n"
          ]
        }
      ]
    },
    {
      "cell_type": "code",
      "execution_count": 8,
      "id": "59d7c477",
      "metadata": {
        "execution": {
          "iopub.execute_input": "2022-06-23T03:34:45.810857Z",
          "iopub.status.busy": "2022-06-23T03:34:45.810411Z",
          "iopub.status.idle": "2022-06-23T03:34:59.483658Z",
          "shell.execute_reply": "2022-06-23T03:34:59.482369Z"
        },
        "papermill": {
          "duration": 13.684877,
          "end_time": "2022-06-23T03:34:59.486678",
          "exception": false,
          "start_time": "2022-06-23T03:34:45.801801",
          "status": "completed"
        },
        "tags": [],
        "id": "59d7c477"
      },
      "outputs": [],
      "source": [
        "import os\n",
        "import numpy as np\n",
        "import pandas as pd\n",
        "import random\n",
        "import matplotlib.pyplot as plt\n",
        "import seaborn as sns\n",
        "from contextlib import contextmanager\n",
        "from time import time\n",
        "from tqdm import tqdm\n",
        "import lightgbm as lgbm\n",
        "import category_encoders as ce\n",
        "from tensorflow.keras.utils import to_categorical\n",
        "from sklearn.metrics import classification_report, log_loss, accuracy_score\n",
        "from sklearn.metrics import mean_squared_error\n",
        "from sklearn.model_selection import KFold"
      ]
    },
    {
      "cell_type": "markdown",
      "id": "08f41e51",
      "metadata": {
        "papermill": {
          "duration": 0.006955,
          "end_time": "2022-06-23T03:34:59.500864",
          "exception": false,
          "start_time": "2022-06-23T03:34:59.493909",
          "status": "completed"
        },
        "tags": [],
        "id": "08f41e51"
      },
      "source": [
        "# Data preparation"
      ]
    },
    {
      "cell_type": "code",
      "execution_count": 10,
      "id": "56f580a6",
      "metadata": {
        "execution": {
          "iopub.execute_input": "2022-06-23T03:34:59.517685Z",
          "iopub.status.busy": "2022-06-23T03:34:59.516678Z",
          "iopub.status.idle": "2022-06-23T03:34:59.590400Z",
          "shell.execute_reply": "2022-06-23T03:34:59.589422Z"
        },
        "papermill": {
          "duration": 0.084811,
          "end_time": "2022-06-23T03:34:59.592873",
          "exception": false,
          "start_time": "2022-06-23T03:34:59.508062",
          "status": "completed"
        },
        "tags": [],
        "id": "56f580a6"
      },
      "outputs": [],
      "source": [
        "X_train=pd.read_csv('X_train.csv')\n",
        "Y_train=pd.read_csv('y_train.csv')\n",
        "X_test=pd.read_csv('X_test.csv')\n",
        "Y_test=pd.read_csv('y_test.csv')"
      ]
    },
    {
      "cell_type": "code",
      "execution_count": 11,
      "id": "646e712a",
      "metadata": {
        "execution": {
          "iopub.execute_input": "2022-06-23T03:34:59.609453Z",
          "iopub.status.busy": "2022-06-23T03:34:59.608444Z",
          "iopub.status.idle": "2022-06-23T03:34:59.615029Z",
          "shell.execute_reply": "2022-06-23T03:34:59.614262Z"
        },
        "papermill": {
          "duration": 0.017331,
          "end_time": "2022-06-23T03:34:59.617379",
          "exception": false,
          "start_time": "2022-06-23T03:34:59.600048",
          "status": "completed"
        },
        "tags": [],
        "id": "646e712a"
      },
      "outputs": [],
      "source": [
        "from sklearn.preprocessing import LabelEncoder\n",
        "\n",
        "def labelencoder(df):\n",
        "    for c in df.columns:\n",
        "        if df[c].dtype=='object': \n",
        "            df[c] = df[c].fillna('N')\n",
        "            lbl = LabelEncoder()\n",
        "            lbl.fit(list(df[c].values))\n",
        "            df[c] = lbl.transform(df[c].values)\n",
        "    return df"
      ]
    },
    {
      "cell_type": "code",
      "execution_count": 12,
      "id": "12fb81f6",
      "metadata": {
        "execution": {
          "iopub.execute_input": "2022-06-23T03:34:59.633517Z",
          "iopub.status.busy": "2022-06-23T03:34:59.633047Z",
          "iopub.status.idle": "2022-06-23T03:34:59.719972Z",
          "shell.execute_reply": "2022-06-23T03:34:59.718884Z"
        },
        "papermill": {
          "duration": 0.098129,
          "end_time": "2022-06-23T03:34:59.722610",
          "exception": false,
          "start_time": "2022-06-23T03:34:59.624481",
          "status": "completed"
        },
        "tags": [],
        "id": "12fb81f6"
      },
      "outputs": [],
      "source": [
        "X_train2=labelencoder(X_train)\n",
        "X_test2=labelencoder(X_test)"
      ]
    },
    {
      "cell_type": "code",
      "execution_count": 13,
      "id": "40edaa77",
      "metadata": {
        "execution": {
          "iopub.execute_input": "2022-06-23T03:34:59.739310Z",
          "iopub.status.busy": "2022-06-23T03:34:59.738466Z",
          "iopub.status.idle": "2022-06-23T03:34:59.750253Z",
          "shell.execute_reply": "2022-06-23T03:34:59.749377Z"
        },
        "papermill": {
          "duration": 0.023004,
          "end_time": "2022-06-23T03:34:59.752879",
          "exception": false,
          "start_time": "2022-06-23T03:34:59.729875",
          "status": "completed"
        },
        "tags": [],
        "colab": {
          "base_uri": "https://localhost:8080/"
        },
        "id": "40edaa77",
        "outputId": "85b73976-d623-44de-e5ce-05acce4fa153"
      },
      "outputs": [
        {
          "output_type": "stream",
          "name": "stdout",
          "text": [
            "5698\n"
          ]
        }
      ],
      "source": [
        "n=len(X_train2)\n",
        "print(n)\n",
        "N=list(range(n))\n",
        "random.seed(2021)\n",
        "random.shuffle(N)"
      ]
    },
    {
      "cell_type": "code",
      "execution_count": 14,
      "id": "81f51242",
      "metadata": {
        "execution": {
          "iopub.execute_input": "2022-06-23T03:34:59.770090Z",
          "iopub.status.busy": "2022-06-23T03:34:59.769532Z",
          "iopub.status.idle": "2022-06-23T03:34:59.786114Z",
          "shell.execute_reply": "2022-06-23T03:34:59.784770Z"
        },
        "papermill": {
          "duration": 0.028871,
          "end_time": "2022-06-23T03:34:59.789156",
          "exception": false,
          "start_time": "2022-06-23T03:34:59.760285",
          "status": "completed"
        },
        "tags": [],
        "id": "81f51242"
      },
      "outputs": [],
      "source": [
        "target=['price']\n",
        "trainY = Y_train[target]\n",
        "trainX = X_train.drop('filghtId',axis=1)\n",
        "testY = Y_test[target]\n",
        "testX = X_test.drop('filghtId',axis=1)"
      ]
    },
    {
      "cell_type": "code",
      "execution_count": 15,
      "id": "e4020aaa",
      "metadata": {
        "execution": {
          "iopub.execute_input": "2022-06-23T03:34:59.808422Z",
          "iopub.status.busy": "2022-06-23T03:34:59.807980Z",
          "iopub.status.idle": "2022-06-23T03:34:59.815381Z",
          "shell.execute_reply": "2022-06-23T03:34:59.813444Z"
        },
        "papermill": {
          "duration": 0.020837,
          "end_time": "2022-06-23T03:34:59.817843",
          "exception": false,
          "start_time": "2022-06-23T03:34:59.797006",
          "status": "completed"
        },
        "tags": [],
        "colab": {
          "base_uri": "https://localhost:8080/"
        },
        "id": "e4020aaa",
        "outputId": "16166c0c-1b1f-4f5d-940a-39f5a7ebbf03"
      },
      "outputs": [
        {
          "output_type": "stream",
          "name": "stdout",
          "text": [
            "['airline', 'flight', 'source_city', 'departure_time', 'stops', 'arrival_time', 'destination_city', 'duration', 'days_left']\n"
          ]
        }
      ],
      "source": [
        "df_columns = list(trainX.columns)\n",
        "print(df_columns)"
      ]
    },
    {
      "cell_type": "code",
      "execution_count": 16,
      "id": "9294e3da",
      "metadata": {
        "execution": {
          "iopub.execute_input": "2022-06-23T03:34:59.835269Z",
          "iopub.status.busy": "2022-06-23T03:34:59.834839Z",
          "iopub.status.idle": "2022-06-23T03:34:59.840106Z",
          "shell.execute_reply": "2022-06-23T03:34:59.839190Z"
        },
        "papermill": {
          "duration": 0.017094,
          "end_time": "2022-06-23T03:34:59.842459",
          "exception": false,
          "start_time": "2022-06-23T03:34:59.825365",
          "status": "completed"
        },
        "tags": [],
        "id": "9294e3da"
      },
      "outputs": [],
      "source": [
        "def create_numeric_feature(input_df):\n",
        "    use_columns = df_columns \n",
        "    return input_df[use_columns].copy()"
      ]
    },
    {
      "cell_type": "code",
      "execution_count": 17,
      "id": "6b542eb0",
      "metadata": {
        "execution": {
          "iopub.execute_input": "2022-06-23T03:34:59.859643Z",
          "iopub.status.busy": "2022-06-23T03:34:59.859210Z",
          "iopub.status.idle": "2022-06-23T03:34:59.868951Z",
          "shell.execute_reply": "2022-06-23T03:34:59.867734Z"
        },
        "papermill": {
          "duration": 0.021825,
          "end_time": "2022-06-23T03:34:59.871752",
          "exception": false,
          "start_time": "2022-06-23T03:34:59.849927",
          "status": "completed"
        },
        "tags": [],
        "id": "6b542eb0"
      },
      "outputs": [],
      "source": [
        "from contextlib import contextmanager\n",
        "from time import time\n",
        "\n",
        "class Timer:\n",
        "    def __init__(self, logger=None, format_str='{:.3f}[s]', prefix=None, suffix=None, sep=' '):\n",
        "\n",
        "        if prefix: format_str = str(prefix) + sep + format_str\n",
        "        if suffix: format_str = format_str + sep + str(suffix)\n",
        "        self.format_str = format_str\n",
        "        self.logger = logger\n",
        "        self.start = None\n",
        "        self.end = None\n",
        "\n",
        "    @property\n",
        "    def duration(self):\n",
        "        if self.end is None:\n",
        "            return 0\n",
        "        return self.end - self.start\n",
        "\n",
        "    def __enter__(self):\n",
        "        self.start = time()\n",
        "\n",
        "    def __exit__(self, exc_type, exc_val, exc_tb):\n",
        "        self.end = time()\n",
        "        out_str = self.format_str.format(self.duration)\n",
        "        if self.logger:\n",
        "            self.logger.info(out_str)\n",
        "        else:\n",
        "            print(out_str)"
      ]
    },
    {
      "cell_type": "code",
      "execution_count": 18,
      "id": "4b90e20c",
      "metadata": {
        "execution": {
          "iopub.execute_input": "2022-06-23T03:34:59.888430Z",
          "iopub.status.busy": "2022-06-23T03:34:59.887965Z",
          "iopub.status.idle": "2022-06-23T03:34:59.895991Z",
          "shell.execute_reply": "2022-06-23T03:34:59.894824Z"
        },
        "papermill": {
          "duration": 0.019079,
          "end_time": "2022-06-23T03:34:59.898319",
          "exception": false,
          "start_time": "2022-06-23T03:34:59.879240",
          "status": "completed"
        },
        "tags": [],
        "id": "4b90e20c"
      },
      "outputs": [],
      "source": [
        "from tqdm import tqdm\n",
        "\n",
        "def to_feature(input_df):\n",
        "\n",
        "    processors = [\n",
        "        create_numeric_feature,\n",
        "    ]\n",
        "    \n",
        "    out_df = pd.DataFrame()\n",
        "    \n",
        "    for func in tqdm(processors, total=len(processors)):\n",
        "        with Timer(prefix='create' + func.__name__ + ' '):\n",
        "            _df = func(input_df)\n",
        "\n",
        "        assert len(_df) == len(input_df), func.__name__\n",
        "        out_df = pd.concat([out_df, _df], axis=1)\n",
        "        \n",
        "    return out_df"
      ]
    },
    {
      "cell_type": "code",
      "execution_count": 19,
      "id": "70ff43af",
      "metadata": {
        "execution": {
          "iopub.execute_input": "2022-06-23T03:34:59.915593Z",
          "iopub.status.busy": "2022-06-23T03:34:59.915089Z",
          "iopub.status.idle": "2022-06-23T03:34:59.942434Z",
          "shell.execute_reply": "2022-06-23T03:34:59.941263Z"
        },
        "papermill": {
          "duration": 0.039006,
          "end_time": "2022-06-23T03:34:59.944804",
          "exception": false,
          "start_time": "2022-06-23T03:34:59.905798",
          "status": "completed"
        },
        "tags": [],
        "colab": {
          "base_uri": "https://localhost:8080/"
        },
        "id": "70ff43af",
        "outputId": "bdf316a9-c52a-40fd-ea0b-ad75192542dd"
      },
      "outputs": [
        {
          "output_type": "stream",
          "name": "stderr",
          "text": [
            "100%|██████████| 1/1 [00:00<00:00, 125.92it/s]"
          ]
        },
        {
          "output_type": "stream",
          "name": "stdout",
          "text": [
            "createcreate_numeric_feature  0.004[s]\n"
          ]
        },
        {
          "output_type": "stream",
          "name": "stderr",
          "text": [
            "\n",
            "100%|██████████| 1/1 [00:00<00:00, 261.43it/s]"
          ]
        },
        {
          "output_type": "stream",
          "name": "stdout",
          "text": [
            "createcreate_numeric_feature  0.002[s]\n"
          ]
        },
        {
          "output_type": "stream",
          "name": "stderr",
          "text": [
            "\n"
          ]
        }
      ],
      "source": [
        "train_feat_df = to_feature(trainX)\n",
        "test_feat_df = to_feature(testX)"
      ]
    },
    {
      "cell_type": "markdown",
      "id": "3a9e7234",
      "metadata": {
        "papermill": {
          "duration": 0.008371,
          "end_time": "2022-06-23T03:34:59.962366",
          "exception": false,
          "start_time": "2022-06-23T03:34:59.953995",
          "status": "completed"
        },
        "tags": [],
        "id": "3a9e7234"
      },
      "source": [
        "# Model"
      ]
    },
    {
      "cell_type": "code",
      "execution_count": 20,
      "id": "d48b67a0",
      "metadata": {
        "execution": {
          "iopub.execute_input": "2022-06-23T03:34:59.980850Z",
          "iopub.status.busy": "2022-06-23T03:34:59.980469Z",
          "iopub.status.idle": "2022-06-23T03:34:59.992459Z",
          "shell.execute_reply": "2022-06-23T03:34:59.990392Z"
        },
        "papermill": {
          "duration": 0.02376,
          "end_time": "2022-06-23T03:34:59.994756",
          "exception": false,
          "start_time": "2022-06-23T03:34:59.970996",
          "status": "completed"
        },
        "tags": [],
        "id": "d48b67a0"
      },
      "outputs": [],
      "source": [
        "import lightgbm as lgbm\n",
        "from sklearn.metrics import mean_squared_error\n",
        "\n",
        "def fit_lgbm(X, y, cv, \n",
        "             params: dict=None, \n",
        "             verbose: int=50):\n",
        "\n",
        "    if params is None:\n",
        "        params = {}\n",
        "\n",
        "    models = []\n",
        "    oof_pred = np.zeros_like(y, dtype=np.float)\n",
        "\n",
        "    for i, (idx_train, idx_valid) in enumerate(cv): \n",
        "        x_train, y_train = X[idx_train], y[idx_train]\n",
        "        x_valid, y_valid = X[idx_valid], y[idx_valid]\n",
        "\n",
        "        clf = lgbm.LGBMRegressor(**params)\n",
        "        \n",
        "        with Timer(prefix='fit fold={} '.format(i)):\n",
        "            clf.fit(x_train, y_train, \n",
        "                    eval_set=[(x_valid, y_valid)],  \n",
        "                    early_stopping_rounds=100,\n",
        "                    verbose=verbose)\n",
        "\n",
        "        pred_i = clf.predict(x_valid)\n",
        "        oof_pred[idx_valid] = pred_i\n",
        "        models.append(clf)\n",
        "        print(f'Fold {i} RMSLE: {mean_squared_error(y_valid, pred_i) ** .5:.4f}')\n",
        "        print()\n",
        "\n",
        "    score = mean_squared_error(y, oof_pred) ** .5\n",
        "    print('-' * 50)\n",
        "    print('FINISHED | Whole RMSLE: {:.4f}'.format(score))\n",
        "    return oof_pred, models"
      ]
    },
    {
      "cell_type": "code",
      "execution_count": 21,
      "id": "baa3c96c",
      "metadata": {
        "execution": {
          "iopub.execute_input": "2022-06-23T03:35:00.015149Z",
          "iopub.status.busy": "2022-06-23T03:35:00.014100Z",
          "iopub.status.idle": "2022-06-23T03:35:00.020637Z",
          "shell.execute_reply": "2022-06-23T03:35:00.019418Z"
        },
        "papermill": {
          "duration": 0.020352,
          "end_time": "2022-06-23T03:35:00.023549",
          "exception": false,
          "start_time": "2022-06-23T03:35:00.003197",
          "status": "completed"
        },
        "tags": [],
        "id": "baa3c96c"
      },
      "outputs": [],
      "source": [
        "params = {\n",
        "    'objective': 'rmse', \n",
        "    'learning_rate': .1,\n",
        "    'reg_lambda': 1.,\n",
        "    'reg_alpha': .1,\n",
        "    'max_depth': 5, \n",
        "    'n_estimators': 10000, \n",
        "    'colsample_bytree': .5, \n",
        "    'min_child_samples': 10,\n",
        "    'subsample_freq': 3,\n",
        "    'subsample': .9,\n",
        "    'importance_type': 'gain', \n",
        "    'random_state': 71,\n",
        "    'num_leaves': 62\n",
        "}"
      ]
    },
    {
      "cell_type": "code",
      "execution_count": 22,
      "id": "760522c1",
      "metadata": {
        "execution": {
          "iopub.execute_input": "2022-06-23T03:35:00.044713Z",
          "iopub.status.busy": "2022-06-23T03:35:00.043916Z",
          "iopub.status.idle": "2022-06-23T03:35:00.060794Z",
          "shell.execute_reply": "2022-06-23T03:35:00.059668Z"
        },
        "papermill": {
          "duration": 0.031703,
          "end_time": "2022-06-23T03:35:00.063623",
          "exception": false,
          "start_time": "2022-06-23T03:35:00.031920",
          "status": "completed"
        },
        "tags": [],
        "colab": {
          "base_uri": "https://localhost:8080/",
          "height": 424
        },
        "id": "760522c1",
        "outputId": "04f4873a-89ac-47d7-c2ed-fd5cd459ee9d"
      },
      "outputs": [
        {
          "output_type": "display_data",
          "data": {
            "text/plain": [
              "      price\n",
              "0     69244\n",
              "1     52392\n",
              "2     61933\n",
              "3     53164\n",
              "4     42521\n",
              "...     ...\n",
              "5693  61032\n",
              "5694  60260\n",
              "5695  51697\n",
              "5696  51707\n",
              "5697  60508\n",
              "\n",
              "[5698 rows x 1 columns]"
            ],
            "text/html": [
              "\n",
              "  <div id=\"df-703a12c5-b8fe-4023-b4e3-2d53a3d2c511\">\n",
              "    <div class=\"colab-df-container\">\n",
              "      <div>\n",
              "<style scoped>\n",
              "    .dataframe tbody tr th:only-of-type {\n",
              "        vertical-align: middle;\n",
              "    }\n",
              "\n",
              "    .dataframe tbody tr th {\n",
              "        vertical-align: top;\n",
              "    }\n",
              "\n",
              "    .dataframe thead th {\n",
              "        text-align: right;\n",
              "    }\n",
              "</style>\n",
              "<table border=\"1\" class=\"dataframe\">\n",
              "  <thead>\n",
              "    <tr style=\"text-align: right;\">\n",
              "      <th></th>\n",
              "      <th>price</th>\n",
              "    </tr>\n",
              "  </thead>\n",
              "  <tbody>\n",
              "    <tr>\n",
              "      <th>0</th>\n",
              "      <td>69244</td>\n",
              "    </tr>\n",
              "    <tr>\n",
              "      <th>1</th>\n",
              "      <td>52392</td>\n",
              "    </tr>\n",
              "    <tr>\n",
              "      <th>2</th>\n",
              "      <td>61933</td>\n",
              "    </tr>\n",
              "    <tr>\n",
              "      <th>3</th>\n",
              "      <td>53164</td>\n",
              "    </tr>\n",
              "    <tr>\n",
              "      <th>4</th>\n",
              "      <td>42521</td>\n",
              "    </tr>\n",
              "    <tr>\n",
              "      <th>...</th>\n",
              "      <td>...</td>\n",
              "    </tr>\n",
              "    <tr>\n",
              "      <th>5693</th>\n",
              "      <td>61032</td>\n",
              "    </tr>\n",
              "    <tr>\n",
              "      <th>5694</th>\n",
              "      <td>60260</td>\n",
              "    </tr>\n",
              "    <tr>\n",
              "      <th>5695</th>\n",
              "      <td>51697</td>\n",
              "    </tr>\n",
              "    <tr>\n",
              "      <th>5696</th>\n",
              "      <td>51707</td>\n",
              "    </tr>\n",
              "    <tr>\n",
              "      <th>5697</th>\n",
              "      <td>60508</td>\n",
              "    </tr>\n",
              "  </tbody>\n",
              "</table>\n",
              "<p>5698 rows × 1 columns</p>\n",
              "</div>\n",
              "      <button class=\"colab-df-convert\" onclick=\"convertToInteractive('df-703a12c5-b8fe-4023-b4e3-2d53a3d2c511')\"\n",
              "              title=\"Convert this dataframe to an interactive table.\"\n",
              "              style=\"display:none;\">\n",
              "        \n",
              "  <svg xmlns=\"http://www.w3.org/2000/svg\" height=\"24px\"viewBox=\"0 0 24 24\"\n",
              "       width=\"24px\">\n",
              "    <path d=\"M0 0h24v24H0V0z\" fill=\"none\"/>\n",
              "    <path d=\"M18.56 5.44l.94 2.06.94-2.06 2.06-.94-2.06-.94-.94-2.06-.94 2.06-2.06.94zm-11 1L8.5 8.5l.94-2.06 2.06-.94-2.06-.94L8.5 2.5l-.94 2.06-2.06.94zm10 10l.94 2.06.94-2.06 2.06-.94-2.06-.94-.94-2.06-.94 2.06-2.06.94z\"/><path d=\"M17.41 7.96l-1.37-1.37c-.4-.4-.92-.59-1.43-.59-.52 0-1.04.2-1.43.59L10.3 9.45l-7.72 7.72c-.78.78-.78 2.05 0 2.83L4 21.41c.39.39.9.59 1.41.59.51 0 1.02-.2 1.41-.59l7.78-7.78 2.81-2.81c.8-.78.8-2.07 0-2.86zM5.41 20L4 18.59l7.72-7.72 1.47 1.35L5.41 20z\"/>\n",
              "  </svg>\n",
              "      </button>\n",
              "      \n",
              "  <style>\n",
              "    .colab-df-container {\n",
              "      display:flex;\n",
              "      flex-wrap:wrap;\n",
              "      gap: 12px;\n",
              "    }\n",
              "\n",
              "    .colab-df-convert {\n",
              "      background-color: #E8F0FE;\n",
              "      border: none;\n",
              "      border-radius: 50%;\n",
              "      cursor: pointer;\n",
              "      display: none;\n",
              "      fill: #1967D2;\n",
              "      height: 32px;\n",
              "      padding: 0 0 0 0;\n",
              "      width: 32px;\n",
              "    }\n",
              "\n",
              "    .colab-df-convert:hover {\n",
              "      background-color: #E2EBFA;\n",
              "      box-shadow: 0px 1px 2px rgba(60, 64, 67, 0.3), 0px 1px 3px 1px rgba(60, 64, 67, 0.15);\n",
              "      fill: #174EA6;\n",
              "    }\n",
              "\n",
              "    [theme=dark] .colab-df-convert {\n",
              "      background-color: #3B4455;\n",
              "      fill: #D2E3FC;\n",
              "    }\n",
              "\n",
              "    [theme=dark] .colab-df-convert:hover {\n",
              "      background-color: #434B5C;\n",
              "      box-shadow: 0px 1px 3px 1px rgba(0, 0, 0, 0.15);\n",
              "      filter: drop-shadow(0px 1px 2px rgba(0, 0, 0, 0.3));\n",
              "      fill: #FFFFFF;\n",
              "    }\n",
              "  </style>\n",
              "\n",
              "      <script>\n",
              "        const buttonEl =\n",
              "          document.querySelector('#df-703a12c5-b8fe-4023-b4e3-2d53a3d2c511 button.colab-df-convert');\n",
              "        buttonEl.style.display =\n",
              "          google.colab.kernel.accessAllowed ? 'block' : 'none';\n",
              "\n",
              "        async function convertToInteractive(key) {\n",
              "          const element = document.querySelector('#df-703a12c5-b8fe-4023-b4e3-2d53a3d2c511');\n",
              "          const dataTable =\n",
              "            await google.colab.kernel.invokeFunction('convertToInteractive',\n",
              "                                                     [key], {});\n",
              "          if (!dataTable) return;\n",
              "\n",
              "          const docLinkHtml = 'Like what you see? Visit the ' +\n",
              "            '<a target=\"_blank\" href=https://colab.research.google.com/notebooks/data_table.ipynb>data table notebook</a>'\n",
              "            + ' to learn more about interactive tables.';\n",
              "          element.innerHTML = '';\n",
              "          dataTable['output_type'] = 'display_data';\n",
              "          await google.colab.output.renderOutput(dataTable, element);\n",
              "          const docLink = document.createElement('div');\n",
              "          docLink.innerHTML = docLinkHtml;\n",
              "          element.appendChild(docLink);\n",
              "        }\n",
              "      </script>\n",
              "    </div>\n",
              "  </div>\n",
              "  "
            ]
          },
          "metadata": {}
        }
      ],
      "source": [
        "y = trainY\n",
        "ydf=pd.DataFrame(y)\n",
        "display(ydf)"
      ]
    },
    {
      "cell_type": "code",
      "execution_count": 23,
      "id": "b90cd769",
      "metadata": {
        "execution": {
          "iopub.execute_input": "2022-06-23T03:35:00.083576Z",
          "iopub.status.busy": "2022-06-23T03:35:00.082884Z",
          "iopub.status.idle": "2022-06-23T03:35:04.864743Z",
          "shell.execute_reply": "2022-06-23T03:35:04.863473Z"
        },
        "papermill": {
          "duration": 4.79512,
          "end_time": "2022-06-23T03:35:04.867566",
          "exception": false,
          "start_time": "2022-06-23T03:35:00.072446",
          "status": "completed"
        },
        "tags": [],
        "colab": {
          "base_uri": "https://localhost:8080/",
          "height": 1000
        },
        "id": "b90cd769",
        "outputId": "25c6145b-da02-4f30-99d7-e7922c5e9890"
      },
      "outputs": [
        {
          "output_type": "stream",
          "name": "stderr",
          "text": [
            "/usr/local/lib/python3.7/dist-packages/ipykernel_launcher.py:12: DeprecationWarning: `np.float` is a deprecated alias for the builtin `float`. To silence this warning, use `float` by itself. Doing this will not modify any behavior and is safe. If you specifically wanted the numpy scalar type, use `np.float64` here.\n",
            "Deprecated in NumPy 1.20; for more details and guidance: https://numpy.org/devdocs/release/1.20.0-notes.html#deprecations\n",
            "  if sys.path[0] == '':\n"
          ]
        },
        {
          "output_type": "stream",
          "name": "stdout",
          "text": [
            "Training until validation scores don't improve for 100 rounds.\n",
            "[500]\tvalid_0's rmse: 6161.68\n",
            "Early stopping, best iteration is:\n",
            "[632]\tvalid_0's rmse: 6138.04\n",
            "fit fold=0  4.464[s]\n",
            "Fold 0 RMSLE: 6138.0363\n",
            "\n",
            "Training until validation scores don't improve for 100 rounds.\n",
            "[500]\tvalid_0's rmse: 6672.52\n",
            "[1000]\tvalid_0's rmse: 6496.63\n",
            "Early stopping, best iteration is:\n",
            "[1330]\tvalid_0's rmse: 6447.91\n",
            "fit fold=1  4.169[s]\n",
            "Fold 1 RMSLE: 6447.9093\n",
            "\n",
            "Training until validation scores don't improve for 100 rounds.\n",
            "[500]\tvalid_0's rmse: 6515.56\n",
            "Early stopping, best iteration is:\n",
            "[653]\tvalid_0's rmse: 6498.71\n",
            "fit fold=2  0.819[s]\n",
            "Fold 2 RMSLE: 6498.7119\n",
            "\n",
            "Training until validation scores don't improve for 100 rounds.\n",
            "[500]\tvalid_0's rmse: 5886.5\n",
            "Early stopping, best iteration is:\n",
            "[668]\tvalid_0's rmse: 5802.23\n",
            "fit fold=3  0.837[s]\n",
            "Fold 3 RMSLE: 5802.2344\n",
            "\n",
            "Training until validation scores don't improve for 100 rounds.\n",
            "[500]\tvalid_0's rmse: 6376.49\n",
            "Early stopping, best iteration is:\n",
            "[751]\tvalid_0's rmse: 6288.87\n",
            "fit fold=4  0.920[s]\n",
            "Fold 4 RMSLE: 6288.8693\n",
            "\n",
            "--------------------------------------------------\n",
            "FINISHED | Whole RMSLE: 6240.2592\n"
          ]
        },
        {
          "output_type": "display_data",
          "data": {
            "text/plain": [
              "<Figure size 432x432 with 1 Axes>"
            ],
            "image/png": "[encoded data removed]"
          },
          "metadata": {
            "needs_background": "light"
          }
        }
      ],
      "source": [
        "from sklearn.model_selection import KFold\n",
        "\n",
        "for i in range(1):\n",
        "    fold = KFold(n_splits=5, shuffle=True, random_state=71)\n",
        "    ydfi=ydf.iloc[:,i]\n",
        "    y=np.array(ydfi)\n",
        "    cv = list(fold.split(train_feat_df, y))\n",
        "    oof, models = fit_lgbm(train_feat_df.values, y, cv, params=params, verbose=500)\n",
        "    \n",
        "    fig,ax = plt.subplots(figsize=(6,6))\n",
        "    ax.set_title(target[i],fontsize=20)\n",
        "    ax.set_ylabel('Train Predicted '+target[i],fontsize=12)\n",
        "    ax.set_xlabel('Train Actual '+target[i],fontsize=12)\n",
        "    ax.scatter(y,oof)"
      ]
    },
    {
      "cell_type": "markdown",
      "id": "c0d50616",
      "metadata": {
        "papermill": {
          "duration": 0.010259,
          "end_time": "2022-06-23T03:35:04.888177",
          "exception": false,
          "start_time": "2022-06-23T03:35:04.877918",
          "status": "completed"
        },
        "tags": [],
        "id": "c0d50616"
      },
      "source": [
        "# Visualize Importance"
      ]
    },
    {
      "cell_type": "code",
      "execution_count": 24,
      "id": "830f9ad4",
      "metadata": {
        "execution": {
          "iopub.execute_input": "2022-06-23T03:35:04.910799Z",
          "iopub.status.busy": "2022-06-23T03:35:04.909832Z",
          "iopub.status.idle": "2022-06-23T03:35:04.919846Z",
          "shell.execute_reply": "2022-06-23T03:35:04.918835Z"
        },
        "papermill": {
          "duration": 0.024231,
          "end_time": "2022-06-23T03:35:04.922693",
          "exception": false,
          "start_time": "2022-06-23T03:35:04.898462",
          "status": "completed"
        },
        "tags": [],
        "id": "830f9ad4"
      },
      "outputs": [],
      "source": [
        "def visualize_importance(models, feat_train_df):\n",
        "\n",
        "    feature_importance_df = pd.DataFrame()\n",
        "    for i, model in enumerate(models):\n",
        "        _df = pd.DataFrame()\n",
        "        _df['feature_importance'] = model.feature_importances_\n",
        "        _df['column'] = feat_train_df.columns\n",
        "        _df['fold'] = i + 1\n",
        "        feature_importance_df = pd.concat([feature_importance_df, _df], \n",
        "                                          axis=0, ignore_index=True)\n",
        "\n",
        "    order = feature_importance_df.groupby('column')\\\n",
        "        .sum()[['feature_importance']]\\\n",
        "        .sort_values('feature_importance', ascending=False).index[:50]\n",
        "\n",
        "    fig, ax = plt.subplots(figsize=(8, max(6, len(order) * .25)))\n",
        "    sns.boxenplot(data=feature_importance_df, \n",
        "                  x='feature_importance', \n",
        "                  y='column', \n",
        "                  order=order, \n",
        "                  ax=ax, \n",
        "                  palette='viridis', \n",
        "                  orient='h')\n",
        "    \n",
        "    ax.tick_params(axis='x', rotation=0)\n",
        "    #ax.set_title('Importance')\n",
        "    ax.grid()\n",
        "    fig.tight_layout()\n",
        "    \n",
        "    return fig,ax\n",
        "\n",
        "#fig, ax = visualize_importance(models, train_feat_df)"
      ]
    },
    {
      "cell_type": "code",
      "execution_count": 25,
      "id": "1e66cea3",
      "metadata": {
        "execution": {
          "iopub.execute_input": "2022-06-23T03:35:04.947671Z",
          "iopub.status.busy": "2022-06-23T03:35:04.946979Z",
          "iopub.status.idle": "2022-06-23T03:35:10.416748Z",
          "shell.execute_reply": "2022-06-23T03:35:10.415460Z"
        },
        "papermill": {
          "duration": 5.485272,
          "end_time": "2022-06-23T03:35:10.419726",
          "exception": false,
          "start_time": "2022-06-23T03:35:04.934454",
          "status": "completed"
        },
        "tags": [],
        "colab": {
          "base_uri": "https://localhost:8080/",
          "height": 1000
        },
        "id": "1e66cea3",
        "outputId": "3a8914ad-8605-4779-828f-914e1c880b22"
      },
      "outputs": [
        {
          "output_type": "stream",
          "name": "stderr",
          "text": [
            "/usr/local/lib/python3.7/dist-packages/ipykernel_launcher.py:12: DeprecationWarning: `np.float` is a deprecated alias for the builtin `float`. To silence this warning, use `float` by itself. Doing this will not modify any behavior and is safe. If you specifically wanted the numpy scalar type, use `np.float64` here.\n",
            "Deprecated in NumPy 1.20; for more details and guidance: https://numpy.org/devdocs/release/1.20.0-notes.html#deprecations\n",
            "  if sys.path[0] == '':\n"
          ]
        },
        {
          "output_type": "stream",
          "name": "stdout",
          "text": [
            "Training until validation scores don't improve for 100 rounds.\n",
            "[500]\tvalid_0's rmse: 6161.68\n",
            "Early stopping, best iteration is:\n",
            "[632]\tvalid_0's rmse: 6138.04\n",
            "fit fold=0  0.813[s]\n",
            "Fold 0 RMSLE: 6138.0363\n",
            "\n",
            "Training until validation scores don't improve for 100 rounds.\n",
            "[500]\tvalid_0's rmse: 6672.52\n",
            "[1000]\tvalid_0's rmse: 6496.63\n",
            "Early stopping, best iteration is:\n",
            "[1330]\tvalid_0's rmse: 6447.91\n",
            "fit fold=1  1.577[s]\n",
            "Fold 1 RMSLE: 6447.9093\n",
            "\n",
            "Training until validation scores don't improve for 100 rounds.\n",
            "[500]\tvalid_0's rmse: 6515.56\n",
            "Early stopping, best iteration is:\n",
            "[653]\tvalid_0's rmse: 6498.71\n",
            "fit fold=2  0.840[s]\n",
            "Fold 2 RMSLE: 6498.7119\n",
            "\n",
            "Training until validation scores don't improve for 100 rounds.\n",
            "[500]\tvalid_0's rmse: 5886.5\n",
            "Early stopping, best iteration is:\n",
            "[668]\tvalid_0's rmse: 5802.23\n",
            "fit fold=3  0.833[s]\n",
            "Fold 3 RMSLE: 5802.2344\n",
            "\n",
            "Training until validation scores don't improve for 100 rounds.\n",
            "[500]\tvalid_0's rmse: 6376.49\n",
            "Early stopping, best iteration is:\n",
            "[751]\tvalid_0's rmse: 6288.87\n",
            "fit fold=4  0.934[s]\n",
            "Fold 4 RMSLE: 6288.8693\n",
            "\n",
            "--------------------------------------------------\n",
            "FINISHED | Whole RMSLE: 6240.2592\n"
          ]
        },
        {
          "output_type": "display_data",
          "data": {
            "text/plain": [
              "<Figure size 576x432 with 1 Axes>"
            ],
            "image/png": "[encoded data removed]"
          },
          "metadata": {
            "needs_background": "light"
          }
        }
      ],
      "source": [
        "for i in range(1):\n",
        "    fold = KFold(n_splits=5, shuffle=True, random_state=71)\n",
        "    ydfi=ydf.iloc[:,i]\n",
        "    y=np.array(ydfi)\n",
        "    cv = list(fold.split(train_feat_df, y))\n",
        "    oof, models = fit_lgbm(train_feat_df.values, y, cv, params=params, verbose=500)\n",
        "    fig, ax = visualize_importance(models, train_feat_df)\n",
        "    ax.set_title(target[i]+' Imortance',fontsize=20)"
      ]
    },
    {
      "cell_type": "code",
      "execution_count": 26,
      "id": "927ccbdb",
      "metadata": {
        "execution": {
          "iopub.execute_input": "2022-06-23T03:35:10.445752Z",
          "iopub.status.busy": "2022-06-23T03:35:10.445382Z",
          "iopub.status.idle": "2022-06-23T03:35:10.833712Z",
          "shell.execute_reply": "2022-06-23T03:35:10.831956Z"
        },
        "papermill": {
          "duration": 0.404416,
          "end_time": "2022-06-23T03:35:10.836386",
          "exception": false,
          "start_time": "2022-06-23T03:35:10.431970",
          "status": "completed"
        },
        "tags": [],
        "colab": {
          "base_uri": "https://localhost:8080/"
        },
        "id": "927ccbdb",
        "outputId": "f03b2528-3278-4ca7-ea64-5ff1806561bd"
      },
      "outputs": [
        {
          "output_type": "stream",
          "name": "stdout",
          "text": [
            "(3347, 5)\n",
            "(3347,)\n"
          ]
        }
      ],
      "source": [
        "preds=[]\n",
        "for i in range(5):\n",
        "    preds += [models[i].predict(test_feat_df.values)/5]\n",
        "predsT=np.array(preds).T\n",
        "print(predsT.shape)\n",
        "preds2=[]\n",
        "for item in predsT:\n",
        "    preds2+=[sum(item)]\n",
        "print(np.array(preds2).shape)"
      ]
    },
    {
      "cell_type": "code",
      "execution_count": 27,
      "id": "c45a4d2d",
      "metadata": {
        "execution": {
          "iopub.execute_input": "2022-06-23T03:35:10.862108Z",
          "iopub.status.busy": "2022-06-23T03:35:10.861086Z",
          "iopub.status.idle": "2022-06-23T03:35:11.260140Z",
          "shell.execute_reply": "2022-06-23T03:35:11.258980Z"
        },
        "papermill": {
          "duration": 0.414869,
          "end_time": "2022-06-23T03:35:11.262880",
          "exception": false,
          "start_time": "2022-06-23T03:35:10.848011",
          "status": "completed"
        },
        "tags": [],
        "colab": {
          "base_uri": "https://localhost:8080/",
          "height": 320
        },
        "id": "c45a4d2d",
        "outputId": "1519d507-526d-4e76-f862-68de7012d6ad"
      },
      "outputs": [
        {
          "output_type": "display_data",
          "data": {
            "text/plain": [
              "<Figure size 720x360 with 1 Axes>"
            ],
            "image/png": "[encoded data removed]"
          },
          "metadata": {
            "needs_background": "light"
          }
        }
      ],
      "source": [
        "for i in range(1):\n",
        "    fig, ax = plt.subplots(figsize=(10,5))\n",
        "    sns.histplot(oof, label='Train Predicted '+target[i], ax=ax, color='C1',bins=30)\n",
        "    sns.histplot(preds2, label='Test Predicted '+target[i], ax=ax, color='black',bins=30)\n",
        "    ax.legend()\n",
        "    ax.grid()"
      ]
    },
    {
      "cell_type": "code",
      "execution_count": 28,
      "id": "4babf2fe",
      "metadata": {
        "execution": {
          "iopub.execute_input": "2022-06-23T03:35:11.288653Z",
          "iopub.status.busy": "2022-06-23T03:35:11.288208Z",
          "iopub.status.idle": "2022-06-23T03:35:11.514803Z",
          "shell.execute_reply": "2022-06-23T03:35:11.513831Z"
        },
        "papermill": {
          "duration": 0.242593,
          "end_time": "2022-06-23T03:35:11.517379",
          "exception": false,
          "start_time": "2022-06-23T03:35:11.274786",
          "status": "completed"
        },
        "tags": [],
        "colab": {
          "base_uri": "https://localhost:8080/",
          "height": 430
        },
        "id": "4babf2fe",
        "outputId": "e4202ed7-9d61-4123-caa4-fdd778483e59"
      },
      "outputs": [
        {
          "output_type": "execute_result",
          "data": {
            "text/plain": [
              "<matplotlib.collections.PathCollection at 0x7f3c07398c90>"
            ]
          },
          "metadata": {},
          "execution_count": 28
        },
        {
          "output_type": "display_data",
          "data": {
            "text/plain": [
              "<Figure size 432x432 with 1 Axes>"
            ],
            "image/png": "[encoded data removed]"
          },
          "metadata": {
            "needs_background": "light"
          }
        }
      ],
      "source": [
        "fig,ax = plt.subplots(figsize=(6,6))\n",
        "ax.set_title(target[i],fontsize=20)\n",
        "ax.set_ylabel('Test Predicted '+target[i],fontsize=12)\n",
        "ax.set_xlabel('Test Actual '+target[i],fontsize=12)\n",
        "ax.scatter(testY,preds2)"
      ]
    }
  ],
  "metadata": {
    "kernelspec": {
      "display_name": "Python 3",
      "language": "python",
      "name": "python3"
    },
    "language_info": {
      "codemirror_mode": {
        "name": "ipython",
        "version": 3
      },
      "file_extension": ".py",
      "mimetype": "text/x-python",
      "name": "python",
      "nbconvert_exporter": "python",
      "pygments_lexer": "ipython3",
      "version": "3.7.12"
    },
    "papermill": {
      "default_parameters": {},
      "duration": 39.691873,
      "end_time": "2022-06-23T03:35:15.024249",
      "environment_variables": {},
      "exception": null,
      "input_path": "__notebook__.ipynb",
      "output_path": "__notebook__.ipynb",
      "parameters": {},
      "start_time": "2022-06-23T03:34:35.332376",
      "version": "2.3.4"
    },
    "colab": {
      "name": "Flight Price Prediction.ipynb",
      "provenance": []
    }
  },
  "nbformat": 4,
  "nbformat_minor": 5
}